{
  "nbformat": 4,
  "nbformat_minor": 0,
  "metadata": {
    "colab": {
      "provenance": []
    },
    "kernelspec": {
      "name": "python3",
      "display_name": "Python 3"
    },
    "language_info": {
      "name": "python"
    }
  },
  "cells": [
    {
      "cell_type": "markdown",
      "source": [
        "# Data Types and Structures\n",
        "\n",
        "1. What are data structures, and why are they important?\n",
        "\n",
        "\n",
        "*  Data structures are ways of organizing and storing data so it can be accessed and modified efficiently.\n",
        "*  They are important because they help in efficient data management, reduce time complexity, and improve performance.\n",
        "\n",
        "\n",
        "\n",
        "2. Explain the difference between mutable and immutable data types with examples.\n",
        "\n",
        "  1.  Mutable: Can be changed after creation (e.g., list, dictionary, set).\n",
        "  2. Immutable: Cannot be changed after creation (e.g., tuple, string, int)\n",
        "\n",
        "\n",
        "3. What are the main differences between lists and tuples in Python?\n",
        "\n",
        "\n",
        "* Mutability\n",
        "\n",
        "     List: Lists are mutable, which means their elements can be changed after the list is created. You can add, remove, or update elements.\n",
        "\n",
        "     Tuple: Tuples are immutable, meaning once a tuple is created, its elements cannot be changed or modified.\n",
        "* Syntax\n",
        "\n",
        "     List: Lists are written using square brackets [ ].\n",
        "     Example: my_list = [1, 2, 3]\n",
        "\n",
        "     Tuple: Tuples are written using round brackets ( ).\n",
        "     Example: my_tuple = (1, 2, 3)\n",
        "\n",
        "4. Describe how dictionaries store data.\n",
        "\n",
        "\n",
        "*  Dictionaries store data in key-value pairs using a hash table. Keys are hashed to find their storage location.\n",
        "\n",
        "5. Why might you use a set instead of a list in Python?\n",
        "\n",
        "  * We use a set instead of a list mainly when we want to store unique items only and don’t care about the order of elements.\n",
        "\n",
        "  * To store unique values (no duplicates)\n",
        "  * Faster membership checking (in operator)\n",
        "\n",
        "6. What is a string in Python, and how is it different from a list?\n",
        "\n",
        "\n",
        "*  String: Sequence of characters (immutable)\n",
        "*  List: Sequence of elements (mutable)\n",
        "*\t Strings store text, lists store multiple data types.\n",
        "\n",
        "7.  How do tuples ensure data integrity in Python?\n",
        "\n",
        "* Tuples are immutable, meaning data cannot be changed after creation, ensuring consistency.\n",
        "\n",
        "8. What is a hash table, and how does it relate to dictionaries in Python?\n",
        "\n",
        "* A hash table stores data using a hash function to quickly locate keys. Dictionaries use hash tables internally.\n",
        "\n",
        "9. Can lists contain different data types in Python?\n",
        "\n",
        "* Yes, lists in Python can absolutely contain different data types.\n",
        "* my_list = [1, \"Hello\", 3.14]\n",
        "\n",
        "10. Explain why strings are immutable in Python.\n",
        "\n",
        "* Because changing a string would require creating a new memory block, Python makes strings immutable for security and performance.\n",
        "\n",
        "11. What advantages do dictionaries offer over lists for certain tasks?\n",
        "\n",
        "* Faster lookups using keys\n",
        "*\tKey-value mapping instead of index-based access\n",
        "\n",
        "12. Describe a scenario where using a tuple would be preferable over a list.\n",
        "\n",
        "* When storing fixed configuration values like GPS coordinates (28.61, 77.23).\n",
        "\n",
        "13. How do sets handle duplicate values in Python.\n",
        "\n",
        "* Sets automatically remove duplicates when storing elements.\n",
        "\n",
        "14. How does the “in” keyword work differently for lists and dictionaries?\n",
        "*\tList: Checks if value exists in elements\n",
        "*\tDictionary: Checks if value exists in keys\n",
        "\n",
        "15. Can you modify the elements of a tuple? Explain why or why not.\n",
        "\n",
        "* No, you cannot modify the elements of a tuple after it has been created in Python. This is because tuples are immutable data types.\n",
        "\n",
        "16. What is a nested dictionary, and give an example of its use case?\n",
        "\n",
        "* A nested dictionary in Python is simply a dictionary inside another dictionary.\n",
        "It allows you to store data in a hierarchical (multi-level) structure, where each key can map to another dictionary instead of just a single value.\n",
        "* data = {\n",
        "    \"emp1\": {\"name\": \"Amit\", \"age\": 30},\n",
        "    \"emp2\": {\"name\": \"Sara\", \"age\": 25}\n",
        "}\n",
        "\n",
        "print(data[\"emp1\"][\"name\"])\n",
        "\n",
        "\n",
        "17. Describe the time complexity of accessing elements in a dictionar?\n",
        "\n",
        "* Accessing an element in a Python dictionary has average time complexity of O(1) because dictionaries use hash tables for storage.\n",
        "\n",
        "*  Average Case: O(1) → Direct access using the key\n",
        "* Worst Case: O(n) → Happens rarely when many keys have the same hash (hash collision)\n",
        "\n",
        "18. In what situations are lists preferred over dictionaries?\n",
        "\n",
        "  1. Lists are preferred when:\n",
        "\n",
        "  2. Order matters\n",
        "\n",
        "  3. Access by index\n",
        "\n",
        "  4. Duplicates allowed\n",
        "\n",
        "  5. Simple value storage\n",
        "\n",
        "  6. Sequential processing\n",
        "\n",
        "19. Why are dictionaries considered unordered, and how does that affect data retrieval?\n",
        "\n",
        "* Dictionaries are unordered because they store data by hash keys, not positions.\n",
        "* You can’t access by index—only by key—so order doesn’t affect retrieval.\n",
        "\n",
        "20. Explain the difference between a list and a dictionary in terms of data retrieval.\n",
        "\n",
        "* Difference in data retrieval:\n",
        "\n",
        "* List: Access by index/position (e.g., my_list[0]).\n",
        "\n",
        "* Dictionary: Access by key (e.g., my_dict[\"name\"]).\n",
        "\n",
        "\n",
        "\n",
        "\n",
        "\n"
      ],
      "metadata": {
        "id": "FJqKruoMYM5j"
      }
    },
    {
      "cell_type": "code",
      "source": [
        "# Practical Questions\n",
        "\n",
        "# 1. Write a code to create a string with your name and print it.\n",
        "\n",
        "name = \"Yuvraj\"\n",
        "print(name)"
      ],
      "metadata": {
        "colab": {
          "base_uri": "https://localhost:8080/"
        },
        "id": "QEIEIDyWoFXu",
        "outputId": "54a358b4-6f83-4e36-b12e-d5ba87a05ea8"
      },
      "execution_count": 1,
      "outputs": [
        {
          "output_type": "stream",
          "name": "stdout",
          "text": [
            "Yuvraj\n"
          ]
        }
      ]
    },
    {
      "cell_type": "code",
      "source": [
        "# 2. Write a code to find the length of the string \"Hello World\"\n",
        "\n",
        "string = \"Hello World\"\n",
        "print(len(string))"
      ],
      "metadata": {
        "colab": {
          "base_uri": "https://localhost:8080/"
        },
        "id": "COkjM8InosGb",
        "outputId": "62aefc38-736b-4744-d716-47eb7e36643b"
      },
      "execution_count": null,
      "outputs": [
        {
          "output_type": "stream",
          "name": "stdout",
          "text": [
            "11\n"
          ]
        }
      ]
    },
    {
      "cell_type": "code",
      "source": [
        "# 3. Write a code to slice the first 3 characters from the string \"Python Programming\"\n",
        "\n",
        "string = \"Python Programming\"\n",
        "print(string[:3])"
      ],
      "metadata": {
        "colab": {
          "base_uri": "https://localhost:8080/"
        },
        "id": "tjxGp2tXpBfe",
        "outputId": "6a8b5541-43c0-4d26-fb65-6bd07e5a4142"
      },
      "execution_count": null,
      "outputs": [
        {
          "output_type": "stream",
          "name": "stdout",
          "text": [
            "Pyt\n"
          ]
        }
      ]
    },
    {
      "cell_type": "code",
      "source": [
        "# 4. Write a code to convert the string \"hello\" to uppercase.\n",
        "\n",
        "string = \"hello\"\n",
        "print(string.upper())\n",
        "\n"
      ],
      "metadata": {
        "colab": {
          "base_uri": "https://localhost:8080/"
        },
        "id": "9fVoXuwlpBQh",
        "outputId": "d77cca20-1987-48a4-fe05-606f92b99bc6"
      },
      "execution_count": null,
      "outputs": [
        {
          "output_type": "stream",
          "name": "stdout",
          "text": [
            "HELLO\n"
          ]
        }
      ]
    },
    {
      "cell_type": "code",
      "source": [
        "# 5. Write a code to replace the word \"apple\" with \"orange\" in the string \"I like apple\".\n",
        "\n",
        "string = \" I like apple\"\n",
        "print(string.replace(\"apple\", \"orange\"))"
      ],
      "metadata": {
        "colab": {
          "base_uri": "https://localhost:8080/"
        },
        "id": "VnjdR5Atpn7X",
        "outputId": "ac5b323c-b6cf-4b62-ffd2-bc9a213a92b9"
      },
      "execution_count": null,
      "outputs": [
        {
          "output_type": "stream",
          "name": "stdout",
          "text": [
            " I like orange\n"
          ]
        }
      ]
    },
    {
      "cell_type": "code",
      "source": [
        "# 6. Write a code to create a list with numbers 1 to 5 and print it.\n",
        "\n",
        "number = [1, 2, 3, 4, 5,]\n",
        "print(number)"
      ],
      "metadata": {
        "colab": {
          "base_uri": "https://localhost:8080/"
        },
        "id": "HRJ7myCdpnw_",
        "outputId": "3f41597f-e57c-4975-c02c-18f59a2fc51f"
      },
      "execution_count": null,
      "outputs": [
        {
          "output_type": "stream",
          "name": "stdout",
          "text": [
            "[1, 2, 3, 4, 5]\n"
          ]
        }
      ]
    },
    {
      "cell_type": "code",
      "source": [
        "# 7. Write a code to append the number 10 to the list [1, 2, 3, 4].\n",
        "\n",
        "list = [1, 2, 3, 4]\n",
        "list.append(10)\n",
        "print(list)"
      ],
      "metadata": {
        "colab": {
          "base_uri": "https://localhost:8080/"
        },
        "id": "-2S6ycXsq7cN",
        "outputId": "145043cd-d7a2-4a85-b7ba-7c6ca0dd7cfd"
      },
      "execution_count": null,
      "outputs": [
        {
          "output_type": "stream",
          "name": "stdout",
          "text": [
            "[1, 2, 3, 4, 10]\n"
          ]
        }
      ]
    },
    {
      "cell_type": "code",
      "source": [
        "# 8. Write a code to remove the number 3 from the list [1, 2, 3, 4, 5].\n",
        "\n",
        "list = [1, 2, 3, 4, 5]\n",
        "list.remove(3)\n",
        "print(list)"
      ],
      "metadata": {
        "colab": {
          "base_uri": "https://localhost:8080/"
        },
        "id": "63DJLttkrK9f",
        "outputId": "309bec7e-28e2-4575-e4b4-e2f6ec239203"
      },
      "execution_count": null,
      "outputs": [
        {
          "output_type": "stream",
          "name": "stdout",
          "text": [
            "[1, 2, 4, 5]\n"
          ]
        }
      ]
    },
    {
      "cell_type": "code",
      "source": [
        "# 9. Write a code to access the second element in the list ['a', 'b', 'c', 'd'].\n",
        "\n",
        "list = ['a', 'b', 'c', 'd']\n",
        "print(list[1])"
      ],
      "metadata": {
        "colab": {
          "base_uri": "https://localhost:8080/"
        },
        "id": "n7MUfVEarK6E",
        "outputId": "57089f54-3ed6-4410-ded7-b1d55915a2d5"
      },
      "execution_count": null,
      "outputs": [
        {
          "output_type": "stream",
          "name": "stdout",
          "text": [
            "b\n"
          ]
        }
      ]
    },
    {
      "cell_type": "code",
      "source": [
        "# 10. Write a code to reverse the list [10, 20, 30, 40, 50].\n",
        "\n",
        "list = [10, 20, 30, 40, 50]\n",
        "list.reverse()\n",
        "print(list)"
      ],
      "metadata": {
        "colab": {
          "base_uri": "https://localhost:8080/"
        },
        "id": "NHcEwkHZrK3u",
        "outputId": "094a4c36-3d7c-4d30-f696-a17d9c94959b"
      },
      "execution_count": null,
      "outputs": [
        {
          "output_type": "stream",
          "name": "stdout",
          "text": [
            "[50, 40, 30, 20, 10]\n"
          ]
        }
      ]
    },
    {
      "cell_type": "code",
      "source": [
        "# 11. Write a code to create a tuple with the elements 100, 200, 300 and print it.\n",
        "\n",
        "tuple = (100, 200, 300)\n",
        "print(tuple)"
      ],
      "metadata": {
        "colab": {
          "base_uri": "https://localhost:8080/"
        },
        "id": "YGuJchXpsUQR",
        "outputId": "13d93890-a81f-4fa0-f8ba-b3bc88279c7a"
      },
      "execution_count": null,
      "outputs": [
        {
          "output_type": "stream",
          "name": "stdout",
          "text": [
            "(100, 200, 300)\n"
          ]
        }
      ]
    },
    {
      "cell_type": "code",
      "source": [
        "# 12. Write a code to access the second-to-last element of the tuple ('red', 'green', 'blue', 'yellow').\n",
        "\n",
        "tuple = ('red', 'green', 'blue', 'yellow')\n",
        "print(tuple[-2])"
      ],
      "metadata": {
        "colab": {
          "base_uri": "https://localhost:8080/"
        },
        "id": "J94jZD7RsUMy",
        "outputId": "af885bb9-8495-4965-e873-1f64360ee3c3"
      },
      "execution_count": null,
      "outputs": [
        {
          "output_type": "stream",
          "name": "stdout",
          "text": [
            "blue\n"
          ]
        }
      ]
    },
    {
      "cell_type": "code",
      "source": [
        "# 13. Write a code to find the minimum number in the tuple (10, 20, 5, 15).\n",
        "\n",
        "tuple = (10, 20, 5, 15)\n",
        "print(min(tuple))"
      ],
      "metadata": {
        "colab": {
          "base_uri": "https://localhost:8080/"
        },
        "id": "dCCeT72ysUJu",
        "outputId": "f9b90437-3f18-4848-9119-054a5e5c000f"
      },
      "execution_count": null,
      "outputs": [
        {
          "output_type": "stream",
          "name": "stdout",
          "text": [
            "5\n"
          ]
        }
      ]
    },
    {
      "cell_type": "code",
      "source": [
        "# 14. Write a code to find the index of the element \"cat\" in the tuple ('dog', 'cat', 'rabbit').\\\n",
        "\n",
        "tuple = ('dog', 'cat', 'rabbit')\n",
        "print(tuple.index('cat'))"
      ],
      "metadata": {
        "colab": {
          "base_uri": "https://localhost:8080/"
        },
        "id": "YkK8x4tLtHz7",
        "outputId": "7e5df20b-d3df-4c4b-d120-591d6556b291"
      },
      "execution_count": null,
      "outputs": [
        {
          "output_type": "stream",
          "name": "stdout",
          "text": [
            "1\n"
          ]
        }
      ]
    },
    {
      "cell_type": "code",
      "source": [
        "# 15. Write a code to create a tuple containing three different fruits and check if \"kiwi\" is in it.\n",
        "\n",
        "tuple = (\"apple\", \"banana\", \"cherry\")\n",
        "print(\"kiwi\" in tuple)"
      ],
      "metadata": {
        "colab": {
          "base_uri": "https://localhost:8080/"
        },
        "id": "JRHsa_MHtHwW",
        "outputId": "6390cd0e-0f93-4d20-ee2c-614bbc32437f"
      },
      "execution_count": null,
      "outputs": [
        {
          "output_type": "stream",
          "name": "stdout",
          "text": [
            "False\n"
          ]
        }
      ]
    },
    {
      "cell_type": "code",
      "source": [
        "# 16. Write a code to create a set with the elements 'a', 'b', 'c' and print it.\n",
        "\n",
        "set = {'a', 'b', 'c'}\n",
        "print(set)"
      ],
      "metadata": {
        "colab": {
          "base_uri": "https://localhost:8080/"
        },
        "id": "RVwt4ziEuRua",
        "outputId": "00d711d7-c0df-4e2e-fdfe-0ad10bd19d7d"
      },
      "execution_count": null,
      "outputs": [
        {
          "output_type": "stream",
          "name": "stdout",
          "text": [
            "{'c', 'b', 'a'}\n"
          ]
        }
      ]
    },
    {
      "cell_type": "code",
      "source": [
        "# 17.Write a code to clear all elements from the set {1, 2, 3, 4, 5}.\n",
        "\n",
        "set = {1, 2, 3, 4, 5}\n",
        "set.clear()\n",
        "print(set)"
      ],
      "metadata": {
        "colab": {
          "base_uri": "https://localhost:8080/"
        },
        "id": "qWTop-lUuRr3",
        "outputId": "175a37ab-b56d-46b8-ded1-40480c48bb5d"
      },
      "execution_count": null,
      "outputs": [
        {
          "output_type": "stream",
          "name": "stdout",
          "text": [
            "set()\n"
          ]
        }
      ]
    },
    {
      "cell_type": "code",
      "source": [
        "# 18. Write a code to remove the element 4 from the set {1, 2, 3, 4}.\n",
        "\n",
        "set = {1, 2, 3, 4}\n",
        "set.remove(4)\n",
        "print(set)"
      ],
      "metadata": {
        "colab": {
          "base_uri": "https://localhost:8080/"
        },
        "id": "pwc2BRjHuRqF",
        "outputId": "df695a50-01d7-4695-914d-7ab8a43110c6"
      },
      "execution_count": null,
      "outputs": [
        {
          "output_type": "stream",
          "name": "stdout",
          "text": [
            "{1, 2, 3}\n"
          ]
        }
      ]
    },
    {
      "cell_type": "code",
      "source": [
        "# 19. Write a code to find the union of two sets {1, 2, 3} and {3, 4, 5}.\n",
        "\n",
        "set1 = {1, 2, 3}\n",
        "set2 = {3, 4, 5}\n",
        "print(set1.union(set2))"
      ],
      "metadata": {
        "colab": {
          "base_uri": "https://localhost:8080/"
        },
        "id": "khf9FOjDuRno",
        "outputId": "55d332d2-1870-4854-cc11-78add81eeedf"
      },
      "execution_count": null,
      "outputs": [
        {
          "output_type": "stream",
          "name": "stdout",
          "text": [
            "{1, 2, 3, 4, 5}\n"
          ]
        }
      ]
    },
    {
      "cell_type": "code",
      "source": [
        "# 20. Write a code to find the intersection of two sets {1, 2, 3} and {2, 3, 4}.\n",
        "\n",
        "set1 = {1, 2, 3}\n",
        "set2 = {2, 3, 4}\n",
        "print(set1.intersection(set2))"
      ],
      "metadata": {
        "colab": {
          "base_uri": "https://localhost:8080/"
        },
        "id": "wqtmwsH1u-yh",
        "outputId": "6b3ae9f1-fee0-4418-e1b8-db9f7ccf168d"
      },
      "execution_count": null,
      "outputs": [
        {
          "output_type": "stream",
          "name": "stdout",
          "text": [
            "{2, 3}\n"
          ]
        }
      ]
    },
    {
      "cell_type": "code",
      "source": [
        "# 21. Write a code to create a dictionary with the keys \"name\", \"age\", and \"city\", and print it.\n",
        "\n",
        "dict = {\"name\": \"Yuvraj\", \"age\": 21, \"city\": \"Varanasi\"}\n",
        "print(dict)"
      ],
      "metadata": {
        "colab": {
          "base_uri": "https://localhost:8080/"
        },
        "id": "ytzywrKiu-sx",
        "outputId": "944cb3a8-ef70-441c-ab48-2bcc5b24ab4a"
      },
      "execution_count": 2,
      "outputs": [
        {
          "output_type": "stream",
          "name": "stdout",
          "text": [
            "{'name': 'Yuvraj', 'age': 21, 'city': 'Varanasi'}\n"
          ]
        }
      ]
    },
    {
      "cell_type": "code",
      "source": [
        "# 22. Write a code to add a new key-value pair \"country\": \"USA\" to the dictionary {'name': 'John', 'age': 25}.\n",
        "\n",
        "dict = {'name': 'John', 'age': 25}\n",
        "dict[\"country\"] = \"USA\"\n",
        "print(dict)"
      ],
      "metadata": {
        "colab": {
          "base_uri": "https://localhost:8080/"
        },
        "id": "u-lMX9QDu-qa",
        "outputId": "5bb2a420-8d98-49a7-f914-4546a19b7124"
      },
      "execution_count": null,
      "outputs": [
        {
          "output_type": "stream",
          "name": "stdout",
          "text": [
            "{'name': 'John', 'age': 25, 'country': 'USA'}\n"
          ]
        }
      ]
    },
    {
      "cell_type": "code",
      "source": [
        "# 23. Write a code to access the value associated with the key \"name\" in the dictionary {'name': 'Alice', 'age': 30}.\n",
        "\n",
        "dict = {'name': 'Alice', 'age': 30}\n",
        "print(dict[\"name\"])"
      ],
      "metadata": {
        "colab": {
          "base_uri": "https://localhost:8080/"
        },
        "id": "KgpaS741u-oU",
        "outputId": "862c854d-4ed9-49a8-91a9-8007e0d5de1f"
      },
      "execution_count": null,
      "outputs": [
        {
          "output_type": "stream",
          "name": "stdout",
          "text": [
            "Alice\n"
          ]
        }
      ]
    },
    {
      "cell_type": "code",
      "source": [
        "# 24. Write a code to remove the key \"age\" from the dictionary {'name': 'Bob', 'age': 22, 'city': 'New York'}.\n",
        "\n",
        "dict = {'name': 'Bob', 'age': 22, 'city': 'New York'}\n",
        "del dict[\"age\"]\n",
        "print(dict)\n"
      ],
      "metadata": {
        "colab": {
          "base_uri": "https://localhost:8080/"
        },
        "id": "qwQ2Ai5av7Qa",
        "outputId": "0da8233f-b879-4e8e-d943-83dff6f5a00c"
      },
      "execution_count": null,
      "outputs": [
        {
          "output_type": "stream",
          "name": "stdout",
          "text": [
            "{'name': 'Bob', 'city': 'New York'}\n"
          ]
        }
      ]
    },
    {
      "cell_type": "code",
      "source": [
        "# 25. Write a code to check if the key \"city\" exists in the dictionary {'name': 'Alice', 'city': 'Paris'}.\n",
        "\n",
        "dict = {'name': 'Alice', 'city': 'Paris'}\n",
        "print(\"city\" in dict)"
      ],
      "metadata": {
        "colab": {
          "base_uri": "https://localhost:8080/"
        },
        "id": "DNB4C4KJv7NH",
        "outputId": "6326ad0a-534f-40c9-87ba-405908a39fcb"
      },
      "execution_count": null,
      "outputs": [
        {
          "output_type": "stream",
          "name": "stdout",
          "text": [
            "True\n"
          ]
        }
      ]
    },
    {
      "cell_type": "code",
      "source": [
        "# 26. Write a code to create a list, a tuple, and a dictionary, and print them all.\n",
        "\n",
        "list = [1, 2, 3]\n",
        "tuple = (1, 2, 3)\n",
        "dict = {\"a\": 7, \"b\": 8}\n",
        "print(list)\n",
        "print(tuple)\n",
        "print(dict)"
      ],
      "metadata": {
        "colab": {
          "base_uri": "https://localhost:8080/"
        },
        "id": "cNZtafHB4ycW",
        "outputId": "109f8998-65f5-44a3-ecc5-5218a920155b"
      },
      "execution_count": null,
      "outputs": [
        {
          "output_type": "stream",
          "name": "stdout",
          "text": [
            "[1, 2, 3]\n",
            "(1, 2, 3)\n",
            "{'a': 7, 'b': 8}\n"
          ]
        }
      ]
    },
    {
      "cell_type": "code",
      "source": [
        "# 27. Write a code to create a list of 5 random numbers between 1 and 100, sort it in ascending order, and print the result.(replaced)\n",
        "\n",
        "import random\n",
        "numbers = random.sample(range(1, 100), 5)\n",
        "numbers.sort()\n",
        "print(numbers)\n"
      ],
      "metadata": {
        "colab": {
          "base_uri": "https://localhost:8080/"
        },
        "id": "zMEw5yTA4yZD",
        "outputId": "4940bd71-01a9-4ffd-cab5-2a55cff3fea0"
      },
      "execution_count": null,
      "outputs": [
        {
          "output_type": "stream",
          "name": "stdout",
          "text": [
            "[7, 8, 71, 73, 88]\n"
          ]
        }
      ]
    },
    {
      "cell_type": "code",
      "source": [
        "# 28. Write a code to create a list with strings and print the element at the third index.\n",
        "\n",
        "list = [\"apple\", \"banana\", \"cherry\", \"date\", \"elderberry\"]\n",
        "print(list[3])"
      ],
      "metadata": {
        "colab": {
          "base_uri": "https://localhost:8080/"
        },
        "id": "tw44D_tF4yWw",
        "outputId": "c520c426-982d-4e5d-db04-f30bf5c824b7"
      },
      "execution_count": null,
      "outputs": [
        {
          "output_type": "stream",
          "name": "stdout",
          "text": [
            "date\n"
          ]
        }
      ]
    },
    {
      "cell_type": "code",
      "source": [
        "# 29. Write a code to combine two dictionaries into one and print the result.\n",
        "\n",
        "dict1 = {\"a\": 1, \"b\": 2}\n",
        "dict2 = {\"c\": 3, \"d\": 4}\n",
        "combine = {**dict1, **dict2}\n",
        "print(combine)"
      ],
      "metadata": {
        "colab": {
          "base_uri": "https://localhost:8080/"
        },
        "id": "80ork93i4yT-",
        "outputId": "479440ca-89c7-4576-ac34-fdaad55a9995"
      },
      "execution_count": null,
      "outputs": [
        {
          "output_type": "stream",
          "name": "stdout",
          "text": [
            "{'a': 1, 'b': 2, 'c': 3, 'd': 4}\n"
          ]
        }
      ]
    },
    {
      "cell_type": "code",
      "source": [
        "# 30. Write a code to convert a list of strings into a set.\n",
        "\n",
        "import builtins\n",
        "my_list = [\"apple\", \"banana\", \"cherry\", \"apple\"]\n",
        "my_set = builtins.set(my_list)\n",
        "print(my_set)"
      ],
      "metadata": {
        "colab": {
          "base_uri": "https://localhost:8080/"
        },
        "id": "twHxUu7K7B4H",
        "outputId": "fa4f59be-3e76-48af-91e4-777bec1dc10d"
      },
      "execution_count": null,
      "outputs": [
        {
          "output_type": "stream",
          "name": "stdout",
          "text": [
            "{'banana', 'cherry', 'apple'}\n"
          ]
        }
      ]
    },
    {
      "cell_type": "code",
      "source": [],
      "metadata": {
        "id": "xe088CJz7B01"
      },
      "execution_count": null,
      "outputs": []
    }
  ]
}